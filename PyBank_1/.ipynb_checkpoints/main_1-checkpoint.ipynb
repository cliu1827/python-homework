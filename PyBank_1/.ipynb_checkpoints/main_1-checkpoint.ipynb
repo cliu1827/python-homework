{
 "cells": [
  {
   "cell_type": "markdown",
   "metadata": {},
   "source": [
    "## Open Budget Data"
   ]
  },
  {
   "cell_type": "code",
   "execution_count": 3,
   "metadata": {},
   "outputs": [],
   "source": [
    "#import csv library\n",
    "from pathlib import Path\n",
    "import csv\n",
    "\n",
    "#set file path, using absolute path. can also use ../\n",
    "budget_path = Path('C:/Users/cliu1/Desktop/FINTECH BOOTCAMP/GitHub/python-homework/PyBank_1/budget_data.csv')"
   ]
  },
  {
   "cell_type": "code",
   "execution_count": 4,
   "metadata": {},
   "outputs": [],
   "source": [
    "#initializing variable to hold budget data\n",
    "budget_data = []\n",
    "date_data = []"
   ]
  },
  {
   "cell_type": "code",
   "execution_count": 5,
   "metadata": {},
   "outputs": [],
   "source": [
    "#open the input path as a file object\n",
    "with open(budget_path,'r') as budget_data_csv:\n",
    "    csvreader = csv.reader(budget_data_csv,delimiter = \",\")\n",
    "    next(csvreader)\n",
    "    \n",
    "    for row in csvreader:\n",
    "        profits = int(row[1])\n",
    "        budget_data.append(profits)\n",
    "        dates = row[0]\n",
    "        date_data.append(dates)"
   ]
  },
  {
   "cell_type": "code",
   "execution_count": 6,
   "metadata": {},
   "outputs": [
    {
     "name": "stdout",
     "output_type": "stream",
     "text": [
      "Financial analysis\n",
      "------------------\n",
      "Total Months: 86\n",
      "Net Total: $38382578\n",
      "Average Change: $-2315.12\n",
      "Largest Increase in Profits: Feb-2012: $1926159\n",
      "Largest Decrease in Profits: Sep-2013: $-2196167\n"
     ]
    }
   ],
   "source": [
    "# Initialize Variables\n",
    "total_months = 0\n",
    "net_totals = 0\n",
    "avg_change = 0\n",
    "differences = []\n",
    "largest_increase = 0\n",
    "largest_decrease = 0\n",
    "net_difference = 0\n",
    "date_increase = \"\"\n",
    "date_decrease = \"\"\n",
    "\n",
    "# Calculate max, min, total and count\n",
    "for profits in budget_data:\n",
    "    \n",
    "        # sum count and totals\n",
    "        net_totals += profits\n",
    "        # another for loop through dates table\n",
    "        total_months += 1\n",
    "    \n",
    "#differences for each month\n",
    "for i in range(len(budget_data)-1):\n",
    "    budget_data_next = budget_data[i+1] - budget_data[i]\n",
    "    differences.append(budget_data_next)\n",
    "\n",
    "#min and max calculation\n",
    "for difference in differences:\n",
    "    if largest_decrease == 0:\n",
    "        largest_decrease = difference\n",
    "    elif largest_decrease > difference:\n",
    "        largest_decrease = difference\n",
    "    elif largest_increase < difference:\n",
    "        largest_increase = difference\n",
    "\n",
    "\n",
    "# Define average count\n",
    "for difference in differences:\n",
    "    net_difference += difference\n",
    "    avg_change = round(net_difference / (total_months-1), 2)\n",
    "\n",
    "#assign date to decrease and increase\n",
    "date_increase = date_data[differences.index(largest_increase)+1]\n",
    "date_decrease = date_data[differences.index(largest_decrease)+1]\n",
    "\n",
    "#print the summary results\n",
    "print(\"Financial analysis\")\n",
    "print(\"------------------\")\n",
    "print(f\"Total Months: {total_months}\")\n",
    "print(f\"Net Total: ${net_totals}\")\n",
    "print(f\"Average Change: ${avg_change}\")\n",
    "print(f\"Largest Increase in Profits: {date_increase}: ${largest_increase}\")\n",
    "print(f\"Largest Decrease in Profits: {date_decrease}: ${largest_decrease}\")\n",
    "\n",
    "#write the code"
   ]
  },
  {
   "cell_type": "code",
   "execution_count": 7,
   "metadata": {},
   "outputs": [
    {
     "ename": "NameError",
     "evalue": "name 'pwd' is not defined",
     "output_type": "error",
     "traceback": [
      "\u001b[1;31m---------------------------------------------------------------------------\u001b[0m",
      "\u001b[1;31mNameError\u001b[0m                                 Traceback (most recent call last)",
      "\u001b[1;32m<ipython-input-7-bbb65d5ecc15>\u001b[0m in \u001b[0;36m<module>\u001b[1;34m\u001b[0m\n\u001b[0;32m      1\u001b[0m \u001b[1;31m#writerow stuff here\u001b[0m\u001b[1;33m\u001b[0m\u001b[1;33m\u001b[0m\u001b[1;33m\u001b[0m\u001b[0m\n\u001b[1;32m----> 2\u001b[1;33m \u001b[0mpwd\u001b[0m\u001b[1;33m\u001b[0m\u001b[1;33m\u001b[0m\u001b[0m\n\u001b[0m",
      "\u001b[1;31mNameError\u001b[0m: name 'pwd' is not defined"
     ]
    }
   ],
   "source": [
    "#writerow stuff here\n",
    "pwd"
   ]
  },
  {
   "cell_type": "code",
   "execution_count": null,
   "metadata": {},
   "outputs": [],
   "source": []
  }
 ],
 "metadata": {
  "kernelspec": {
   "display_name": "Python 3",
   "language": "python",
   "name": "python3"
  },
  "language_info": {
   "codemirror_mode": {
    "name": "ipython",
    "version": 3
   },
   "file_extension": ".py",
   "mimetype": "text/x-python",
   "name": "python",
   "nbconvert_exporter": "python",
   "pygments_lexer": "ipython3",
   "version": "3.7.7"
  }
 },
 "nbformat": 4,
 "nbformat_minor": 4
}
