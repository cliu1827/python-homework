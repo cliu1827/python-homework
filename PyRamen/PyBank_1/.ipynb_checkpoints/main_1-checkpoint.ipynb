{
 "cells": [
  {
   "cell_type": "code",
   "execution_count": 10,
   "metadata": {},
   "outputs": [],
   "source": [
    "#take budget_data_path as variable from GITLAB\n",
    "# from pathlib import Path\n",
    "# Path()\n",
    "# budget_data_path = Path('C:/Users/cliu1/Desktop/FINTECH BOOTCAMP/GitLab/ru-hou-fin-pt-06-2020-u-c/Homework/02-Python/Instructions/PyBank/Resources')\n",
    "\n",
    "\n",
    "# #open budget_data_path\n",
    "# with open(budget_data_path,'r') as budget_data_file:\n",
    "#     budget_data = budget_data_file.read"
   ]
  },
  {
   "cell_type": "markdown",
   "metadata": {},
   "source": [
    "## Open Budget Data"
   ]
  },
  {
   "cell_type": "code",
   "execution_count": 7,
   "metadata": {},
   "outputs": [],
   "source": [
    "from pathlib import Path\n",
    "import csv\n",
    "\n",
    "budget_path = Path('C:/Users/cliu1/Desktop/FINTECH BOOTCAMP/GitHub/python-homework/PyBank_1/budget_data.csv')\n"
   ]
  },
  {
   "cell_type": "code",
   "execution_count": 8,
   "metadata": {},
   "outputs": [
    {
     "name": "stdout",
     "output_type": "stream",
     "text": [
      "Date,Profit/Losses\n",
      "\n",
      "Jan-2010,867884\n",
      "\n",
      "Feb-2010,984655\n",
      "\n",
      "Mar-2010,322013\n",
      "\n",
      "Apr-2010,-69417\n",
      "\n",
      "May-2010,310503\n",
      "\n",
      "Jun-2010,522857\n",
      "\n",
      "Jul-2010,1033096\n",
      "\n",
      "Aug-2010,604885\n",
      "\n",
      "Sep-2010,-216386\n",
      "\n",
      "Oct-2010,477532\n",
      "\n",
      "Nov-2010,893810\n",
      "\n",
      "Dec-2010,-80353\n",
      "\n",
      "Jan-2011,779806\n",
      "\n",
      "Feb-2011,-335203\n",
      "\n",
      "Mar-2011,697845\n",
      "\n",
      "Apr-2011,793163\n",
      "\n",
      "May-2011,485070\n",
      "\n",
      "Jun-2011,584122\n",
      "\n",
      "Jul-2011,62729\n",
      "\n",
      "Aug-2011,668179\n",
      "\n",
      "Sep-2011,899906\n",
      "\n",
      "Oct-2011,834719\n",
      "\n",
      "Nov-2011,132003\n",
      "\n",
      "Dec-2011,309978\n",
      "\n",
      "Jan-2012,-755566\n",
      "\n",
      "Feb-2012,1170593\n",
      "\n",
      "Mar-2012,252788\n",
      "\n",
      "Apr-2012,1151518\n",
      "\n",
      "May-2012,817256\n",
      "\n",
      "Jun-2012,570757\n",
      "\n",
      "Jul-2012,506702\n",
      "\n",
      "Aug-2012,-1022534\n",
      "\n",
      "Sep-2012,475062\n",
      "\n",
      "Oct-2012,779976\n",
      "\n",
      "Nov-2012,144175\n",
      "\n",
      "Dec-2012,542494\n",
      "\n",
      "Jan-2013,359333\n",
      "\n",
      "Feb-2013,321469\n",
      "\n",
      "Mar-2013,67780\n",
      "\n",
      "Apr-2013,471435\n",
      "\n",
      "May-2013,565603\n",
      "\n",
      "Jun-2013,872480\n",
      "\n",
      "Jul-2013,789480\n",
      "\n",
      "Aug-2013,999942\n",
      "\n",
      "Sep-2013,-1196225\n",
      "\n",
      "Oct-2013,268997\n",
      "\n",
      "Nov-2013,-687986\n",
      "\n",
      "Dec-2013,1150461\n",
      "\n",
      "Jan-2014,682458\n",
      "\n",
      "Feb-2014,617856\n",
      "\n",
      "Mar-2014,824098\n",
      "\n",
      "Apr-2014,581943\n",
      "\n",
      "May-2014,132864\n",
      "\n",
      "Jun-2014,448062\n",
      "\n",
      "Jul-2014,689161\n",
      "\n",
      "Aug-2014,800701\n",
      "\n",
      "Sep-2014,1166643\n",
      "\n",
      "Oct-2014,947333\n",
      "\n",
      "Nov-2014,578668\n",
      "\n",
      "Dec-2014,988505\n",
      "\n",
      "Jan-2015,1139715\n",
      "\n",
      "Feb-2015,1029471\n",
      "\n",
      "Mar-2015,687533\n",
      "\n",
      "Apr-2015,-524626\n",
      "\n",
      "May-2015,158620\n",
      "\n",
      "Jun-2015,87795\n",
      "\n",
      "Jul-2015,423389\n",
      "\n",
      "Aug-2015,840723\n",
      "\n",
      "Sep-2015,568529\n",
      "\n",
      "Oct-2015,332067\n",
      "\n",
      "Nov-2015,989499\n",
      "\n",
      "Dec-2015,778237\n",
      "\n",
      "Jan-2016,650000\n",
      "\n",
      "Feb-2016,-1100387\n",
      "\n",
      "Mar-2016,-174946\n",
      "\n",
      "Apr-2016,757143\n",
      "\n",
      "May-2016,445709\n",
      "\n",
      "Jun-2016,712961\n",
      "\n",
      "Jul-2016,-1163797\n",
      "\n",
      "Aug-2016,569899\n",
      "\n",
      "Sep-2016,768450\n",
      "\n",
      "Oct-2016,102685\n",
      "\n",
      "Nov-2016,795914\n",
      "\n",
      "Dec-2016,60988\n",
      "\n",
      "Jan-2017,138230\n",
      "\n",
      "Feb-2017,671099\n",
      "\n"
     ]
    }
   ],
   "source": [
    "budget_data = []\n",
    "\n",
    "with open(budget_path,'r') as budget_data:\n",
    "    csvreader = csv.reader(budget_data,delimiter = \",\")\n",
    "    \n",
    "    #prints out the titles, just for checking purposes\n",
    "    #how then do i save this as the \"Budget Titles List\" to call on or can i just look up dictionary objects\n",
    "    for row in budget_data:\n",
    "        print(row)"
   ]
  },
  {
   "cell_type": "markdown",
   "metadata": {},
   "source": [
    "## Analysis"
   ]
  },
  {
   "cell_type": "code",
   "execution_count": 3,
   "metadata": {},
   "outputs": [],
   "source": [
    "# Initialize Variables\n",
    "total_months = 0\n",
    "net_totals = 0\n",
    "avg_change = 0\n",
    "largest_increase = 0\n",
    "largest_decrease = 0"
   ]
  },
  {
   "cell_type": "code",
   "execution_count": 10,
   "metadata": {},
   "outputs": [
    {
     "ename": "ValueError",
     "evalue": "I/O operation on closed file.",
     "output_type": "error",
     "traceback": [
      "\u001b[1;31m---------------------------------------------------------------------------\u001b[0m",
      "\u001b[1;31mValueError\u001b[0m                                Traceback (most recent call last)",
      "\u001b[1;32m<ipython-input-10-2b19ab977112>\u001b[0m in \u001b[0;36m<module>\u001b[1;34m\u001b[0m\n\u001b[0;32m      1\u001b[0m \u001b[1;31m# Calculate max, min, total and count\u001b[0m\u001b[1;33m\u001b[0m\u001b[1;33m\u001b[0m\u001b[1;33m\u001b[0m\u001b[0m\n\u001b[1;32m----> 2\u001b[1;33m \u001b[1;32mfor\u001b[0m \u001b[0mprofits\u001b[0m \u001b[1;32min\u001b[0m \u001b[0mbudget_data\u001b[0m\u001b[1;33m:\u001b[0m\u001b[1;33m\u001b[0m\u001b[1;33m\u001b[0m\u001b[0m\n\u001b[0m\u001b[0;32m      3\u001b[0m \u001b[1;33m\u001b[0m\u001b[0m\n\u001b[0;32m      4\u001b[0m     \u001b[1;31m# sum count and totals\u001b[0m\u001b[1;33m\u001b[0m\u001b[1;33m\u001b[0m\u001b[1;33m\u001b[0m\u001b[0m\n\u001b[0;32m      5\u001b[0m     \u001b[0mtotal_months\u001b[0m \u001b[1;33m+=\u001b[0m \u001b[1;36m1\u001b[0m\u001b[1;33m\u001b[0m\u001b[1;33m\u001b[0m\u001b[0m\n",
      "\u001b[1;31mValueError\u001b[0m: I/O operation on closed file."
     ]
    }
   ],
   "source": [
    "# Calculate max, min, total and count\n",
    "for profits in budget_data:\n",
    "    \n",
    "    # sum count and totals\n",
    "    total_months += 1\n",
    "    net_totals += profits\n",
    "    \n",
    "    # min and max calculation\n",
    "    if largest_decrease == 0:\n",
    "        largest_decrease == profits\n",
    "    elif largest_increase > profits:\n",
    "        largest_increase == profits\n",
    "    elif largest_decrease < profits:\n",
    "        largest_decrease == profits\n",
    "    "
   ]
  },
  {
   "cell_type": "code",
   "execution_count": 5,
   "metadata": {},
   "outputs": [
    {
     "ename": "ZeroDivisionError",
     "evalue": "division by zero",
     "output_type": "error",
     "traceback": [
      "\u001b[1;31m---------------------------------------------------------------------------\u001b[0m",
      "\u001b[1;31mZeroDivisionError\u001b[0m                         Traceback (most recent call last)",
      "\u001b[1;32m<ipython-input-5-24366f2a7448>\u001b[0m in \u001b[0;36m<module>\u001b[1;34m\u001b[0m\n\u001b[0;32m      1\u001b[0m \u001b[1;31m# Define average count\u001b[0m\u001b[1;33m\u001b[0m\u001b[1;33m\u001b[0m\u001b[1;33m\u001b[0m\u001b[0m\n\u001b[1;32m----> 2\u001b[1;33m \u001b[0mavg_change\u001b[0m \u001b[1;33m=\u001b[0m \u001b[0mround\u001b[0m\u001b[1;33m(\u001b[0m\u001b[0mnet_totals\u001b[0m \u001b[1;33m/\u001b[0m \u001b[0mtotal_months\u001b[0m \u001b[1;33m,\u001b[0m \u001b[1;36m2\u001b[0m\u001b[1;33m)\u001b[0m\u001b[1;33m\u001b[0m\u001b[1;33m\u001b[0m\u001b[0m\n\u001b[0m",
      "\u001b[1;31mZeroDivisionError\u001b[0m: division by zero"
     ]
    }
   ],
   "source": [
    "# Define average count\n",
    "avg_change = round(net_totals / total_months , 2)"
   ]
  },
  {
   "cell_type": "code",
   "execution_count": 68,
   "metadata": {},
   "outputs": [
    {
     "name": "stdout",
     "output_type": "stream",
     "text": [
      "Financial analysis\n",
      "------------------\n",
      "Total Months: 0\n",
      "Net Total: $0\n",
      "Average Chagnge: $0\n",
      "Largest Increase in Profits: $0\n",
      "Largest Decrease in Profits: $0\n"
     ]
    }
   ],
   "source": [
    "print(\"Financial analysis\")\n",
    "print(\"------------------\")\n",
    "print(f\"Total Months: {total_months}\")\n",
    "print(f\"Net Total: ${net_totals}\")\n",
    "print(f\"Average Chagnge: ${avg_change}\")\n",
    "print(f\"Largest Increase in Profits: ${largest_increase}\")\n",
    "print(f\"Largest Decrease in Profits: ${largest_decrease}\")"
   ]
  },
  {
   "cell_type": "code",
   "execution_count": null,
   "metadata": {},
   "outputs": [],
   "source": []
  }
 ],
 "metadata": {
  "kernelspec": {
   "display_name": "Python 3",
   "language": "python",
   "name": "python3"
  },
  "language_info": {
   "codemirror_mode": {
    "name": "ipython",
    "version": 3
   },
   "file_extension": ".py",
   "mimetype": "text/x-python",
   "name": "python",
   "nbconvert_exporter": "python",
   "pygments_lexer": "ipython3",
   "version": "3.7.7"
  }
 },
 "nbformat": 4,
 "nbformat_minor": 4
}
