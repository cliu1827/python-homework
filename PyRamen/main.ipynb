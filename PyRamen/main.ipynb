{
 "cells": [
  {
   "cell_type": "code",
   "execution_count": 8,
   "metadata": {},
   "outputs": [],
   "source": [
    "#Import Pathlib and csv\n",
    "from pathlib import Path\n",
    "import csv\n",
    "\n",
    "#set paths for menu_data and sales_data\n",
    "menu_path = Path('menu_data.csv')\n",
    "sales_path = Path('sales_data.csv')\n"
   ]
  },
  {
   "cell_type": "code",
   "execution_count": 9,
   "metadata": {},
   "outputs": [
    {
     "name": "stdout",
     "output_type": "stream",
     "text": [
      "{'01-count': [], '02-revenue': [], '03-cogs': [], '04-profit': [], 'sales_item': []}\n"
     ]
    }
   ],
   "source": [
    "#initialize empty list menu\n",
    "menu = []\n",
    "sales = []\n",
    "\n",
    "#Open menu_data.csv\n",
    "with open(menu_path,'r') as menu_data_csv:\n",
    "    csvreader = csv.reader(menu_data_csv,delimiter=\",\")\n",
    "    \n",
    "    #Moving to the next row due to header being the first row\n",
    "    next(csvreader)\n",
    "    \n",
    "    #append each column to the empty 'menu' list\n",
    "    for row in csvreader:\n",
    "        menu_items = row[0]\n",
    "        menu.append(menu_items)\n",
    "        menu_categories = row[1]\n",
    "        menu.append(menu_categories)\n",
    "        menu_descriptions = row[2]\n",
    "        menu.append(menu_descriptions)\n",
    "        menu_prices = row[3]\n",
    "        menu.append(menu_prices)\n",
    "        menu_costs = row[4]\n",
    "        menu.append(menu_costs)\n",
    "        \n",
    "#Open sales_data.csv\n",
    "with open(sales_path,'r') as sales_data_csv:\n",
    "    csvreader = csv.reader(sales_data_csv,delimiter=\",\")\n",
    "    \n",
    "    #Moving to the next row due to header being the first row\n",
    "    next(csvreader)\n",
    "    \n",
    "    #append each column to the empty 'menu' lis    \n",
    "    for row in csvreader:\n",
    "        sales_ID = row[0]\n",
    "        sales.append(sales_ID)\n",
    "        sales_date = row[1]\n",
    "        sales.append(sales_date)\n",
    "        sales_cardnum = row[2]\n",
    "        sales.append(sales_cardnum)\n",
    "        sales_qty = row[3]\n",
    "        sales.append(sales_qty)\n",
    "        sales_items = row[4]\n",
    "        sales.append(sales_items)      \n",
    "\n",
    "#create 'report' dictionary\n",
    "report = {'01-count':[],'02-revenue':[],'03-cogs':[],'04-profit':[]}\n",
    "\n",
    "#initialize quantity and menu items list\n",
    "Quantity = []\n",
    "Menu_items = []\n",
    "\n",
    "#add sales columns to quantity and menu lists\n",
    "for sale in sales:\n",
    "    Quantity.append(sales[3])\n",
    "    Menu_items.append(sales[4])\n",
    "    \n",
    "# Check if 'sales_item' in report, then print either \"\" or \"in report\"\n",
    "if 'sales_item' in report:\n",
    "    print('in report')\n",
    "else:\n",
    "    report['sales_item'] = []\n",
    "\n",
    "#nested loop by looping through every record in menu\n",
    "#set each row of \"menu\" data, set the columns of menu data to their own variables\n",
    "items = menu[0]\n",
    "\n",
    "\n",
    "#nested for loop\n",
    "# for sale in sales:\n",
    "#     if sales[0] not in items\n",
    "#         append\n",
    "        "
   ]
  },
  {
   "cell_type": "code",
   "execution_count": null,
   "metadata": {},
   "outputs": [],
   "source": []
  }
 ],
 "metadata": {
  "kernelspec": {
   "display_name": "Python 3",
   "language": "python",
   "name": "python3"
  },
  "language_info": {
   "codemirror_mode": {
    "name": "ipython",
    "version": 3
   },
   "file_extension": ".py",
   "mimetype": "text/x-python",
   "name": "python",
   "nbconvert_exporter": "python",
   "pygments_lexer": "ipython3",
   "version": "3.7.7"
  }
 },
 "nbformat": 4,
 "nbformat_minor": 4
}
